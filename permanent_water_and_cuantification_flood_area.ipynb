{
 "cells": [
  {
   "cell_type": "code",
   "execution_count": null,
   "metadata": {
    "id": "VyZy2kMe0VoC"
   },
   "outputs": [],
   "source": [
    "# ================================================\n",
    "# Quantify Permanent and Flooded Areas\n",
    "# ================================================\n",
    "\n",
    "# --------- Install & Import Dependencies ---------\n",
    "!pip install rasterio\n",
    "\n",
    "import rasterio\n",
    "import numpy as np\n",
    "import pandas as pd\n",
    "import matplotlib.pyplot as plt\n",
    "import cv2 as cv\n",
    "import geopandas as gpd\n",
    "from rasterio.features import rasterize\n",
    "from google.colab import drive\n",
    "import os\n",
    "from scipy import ndimage\n",
    "\n",
    "# --------- Mount Google Drive ---------\n",
    "drive.mount('/content/drive')"
   ]
  },
  {
   "cell_type": "code",
   "execution_count": null,
   "metadata": {
    "id": "4TmWVx-eo_go"
   },
   "outputs": [],
   "source": [
    "# --------- User Parameters ---------\n",
    "BASE_PATH = '/content/drive/MyDrive/CONFLUENCIA/'\n",
    "SHAPEFILE_PATH = BASE_PATH + 'CascoUrbanoNechi/CascoUrbanoNechi.shp'\n",
    "CLASSIFIED_FOLDER = BASE_PATH + \"CLASSIFIED_FILT\"\n",
    "OUTPUT_CSV = BASE_PATH + \"filtered_flooded_area.csv\"\n",
    "\n",
    "PIXEL_AREA_M2 = 100  # 1 pixel = 100 m² (adjust if needed)"
   ]
  },
  {
   "cell_type": "code",
   "execution_count": null,
   "metadata": {
    "id": "X4QA2PSUpDyv"
   },
   "outputs": [],
   "source": [
    "# --------- Load and rasterize urban shapefile ---------\n",
    "# Use first raster to get metadata\n",
    "sample_raster = sorted(os.listdir(CLASSIFIED_FOLDER))[0]\n",
    "with rasterio.open(CLASSIFIED_FOLDER + \"/\" + sample_raster) as src:\n",
    "    transform = src.transform\n",
    "    width, height = src.width, src.height\n",
    "    raster_crs = src.crs\n",
    "\n",
    "# Load shapefile and reproject if needed\n",
    "gdf = gpd.read_file(SHAPEFILE_PATH)\n",
    "if gdf.crs != raster_crs:\n",
    "    gdf = gdf.to_crs(raster_crs)\n",
    "\n",
    "# Rasterize urban mask\n",
    "urban_mask = rasterize(\n",
    "    [(geom, 1) for geom in gdf.geometry],\n",
    "    out_shape=(height, width),\n",
    "    transform=transform,\n",
    "    fill=0,\n",
    "    dtype=np.uint8\n",
    ")\n",
    "print(\"✅ Urban mask rasterized.\")\n",
    "gdf.geometry[0]"
   ]
  },
  {
   "cell_type": "code",
   "execution_count": null,
   "metadata": {
    "id": "HUVXkajnj4G0"
   },
   "outputs": [],
   "source": [
    "# --------- Function: get floodable zone for a given year ---------\n",
    "def get_flooded_zone(year: str):\n",
    "    avg_path = BASE_PATH + 'AVERAGE_CLASSIFIED_FILT/' + year + '.tif'\n",
    "    with rasterio.open(avg_path) as src:\n",
    "        avg = src.read(1)\n",
    "        avg = avg / np.max(avg)\n",
    "    permanent_water = avg > 0.75\n",
    "    separated_zones = ndimage.binary_fill_holes(1 - permanent_water)\n",
    "    separated_zones = 1 - ndimage.binary_fill_holes(1 - separated_zones)\n",
    "    labeled, _ = ndimage.label(separated_zones)\n",
    "    flood_zone = (labeled == 1) * ndimage.binary_erosion(1 - permanent_water, structure=np.ones((3, 3)))\n",
    "    return flood_zone"
   ]
  },
  {
   "cell_type": "code",
   "execution_count": null,
   "metadata": {
    "id": "d3LM3d5ul6oK"
   },
   "outputs": [],
   "source": [
    "# --------- Loop: quantify for each classified raster ---------\n",
    "results = []\n",
    "tif_files = sorted(\n",
    "    [f for f in os.listdir(CLASSIFIED_FOLDER) if f.endswith('.tif')],\n",
    "    key=lambda x: (int(x.split('-')[0]), int(x.split('-')[1].split('.')[0]))\n",
    ")\n",
    "\n",
    "for tif_file in tif_files:\n",
    "    year, month = tif_file.split('-')\n",
    "    month = month.split('.')[0]\n",
    "\n",
    "    with rasterio.open(CLASSIFIED_FOLDER + \"/\" + tif_file) as src:\n",
    "        data = src.read(1)\n",
    "        data = data / np.max(data)\n",
    "\n",
    "    # Get floodable zone and mask with urban extent\n",
    "    flood_zone = get_flooded_zone(year)\n",
    "    urban_flood_zone = flood_zone * urban_mask\n",
    "\n",
    "    # Extract flooded pixels within floodable zone\n",
    "    flooded_in_zone = data * flood_zone\n",
    "\n",
    "    # Filter small blobs (< 100 pixels)\n",
    "    filtered_flood = np.zeros_like(flooded_in_zone)\n",
    "    L = cv.connectedComponentsWithStats(flooded_in_zone.astype(np.uint8))\n",
    "    stats = L[2]\n",
    "    for i in range(1, L[0]):\n",
    "        if stats[i][4] >= 100:\n",
    "            filtered_flood[L[1] == i] = 1\n",
    "\n",
    "    # Compute area\n",
    "    flooded_area_m2 = np.sum(filtered_flood) * PIXEL_AREA_M2\n",
    "    print(f\"{tif_file} | Filtered Flooded Area: {flooded_area_m2:.2f} m²\")\n",
    "\n",
    "    results.append([year, month, flooded_area_m2])\n",
    "    print(f\"✔️ Processed: {tif_file}\")"
   ]
  }
 ],
 "metadata": {
  "colab": {
   "provenance": [
    {
     "file_id": "1_65_psBGQPDmbTV7PL26B3xY-j5RJdMT",
     "timestamp": 1742076298147
    },
    {
     "file_id": "15dsj4BzPLkel6CaHLouCxvLiK6IQ298Z",
     "timestamp": 1741578852221
    }
   ]
  },
  "kernelspec": {
   "display_name": "Python 3",
   "name": "python3"
  },
  "language_info": {
   "name": "python"
  }
 },
 "nbformat": 4,
 "nbformat_minor": 0
}
